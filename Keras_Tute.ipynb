{
 "cells": [
  {
   "cell_type": "code",
   "execution_count": 1,
   "metadata": {
    "collapsed": false
   },
   "outputs": [
    {
     "name": "stderr",
     "output_type": "stream",
     "text": [
      "Using TensorFlow backend.\n"
     ]
    }
   ],
   "source": [
    "from keras.datasets import mnist\n",
    "# load the MNIST dataset\n",
    "(X_train, y_train), (X_test, y_test) = mnist.load_data()"
   ]
  },
  {
   "cell_type": "code",
   "execution_count": 2,
   "metadata": {
    "collapsed": true
   },
   "outputs": [],
   "source": [
    "import matplotlib.pyplot as plt\n",
    "\n",
    "%matplotlib inline"
   ]
  },
  {
   "cell_type": "code",
   "execution_count": 3,
   "metadata": {
    "collapsed": false
   },
   "outputs": [
    {
     "data": {
      "image/png": "[encoded data removed]",
      "text/plain": [
       "<matplotlib.figure.Figure at 0x7ff42589a650>"
      ]
     },
     "metadata": {},
     "output_type": "display_data"
    }
   ],
   "source": [
    "# plot 4 images as gray scale\n",
    "plt.subplot(221)\n",
    "plt.imshow(X_train[0], cmap=plt.get_cmap('gray'))\n",
    "plt.subplot(222)\n",
    "plt.imshow(X_train[1], cmap=plt.get_cmap('gray'))\n",
    "plt.subplot(223)\n",
    "plt.imshow(X_train[2], cmap=plt.get_cmap('gray'))\n",
    "plt.subplot(224)\n",
    "plt.imshow(X_train[3], cmap=plt.get_cmap('gray'))\n",
    "\n",
    "plt.show()"
   ]
  },
  {
   "cell_type": "markdown",
   "metadata": {},
   "source": [
    "## Baseline model with multi-layer perceptrons"
   ]
  },
  {
   "cell_type": "code",
   "execution_count": 4,
   "metadata": {
    "collapsed": true
   },
   "outputs": [],
   "source": [
    "import numpy as np\n",
    "from keras.models import Sequential\n",
    "from keras.layers import Dense, Dropout\n",
    "from keras.utils import np_utils"
   ]
  },
  {
   "cell_type": "code",
   "execution_count": 5,
   "metadata": {
    "collapsed": true
   },
   "outputs": [],
   "source": [
    "# fix random seed for reproducibility\n",
    "seed = 7\n",
    "np.random.seed(seed)"
   ]
  },
  {
   "cell_type": "code",
   "execution_count": 10,
   "metadata": {
    "collapsed": false
   },
   "outputs": [
    {
     "name": "stdout",
     "output_type": "stream",
     "text": [
      "(60000, 784)\n",
      "(10000, 784)\n"
     ]
    }
   ],
   "source": [
    "print X_train.shape\n",
    "print y_train.shape\n",
    "print X_test.shape\n",
    "print y_test.shape\n",
    "# flatten 28*28 images to a 784 vector for each image and forcing the precision of the pixel values to be 32 bit\n",
    "num_pixels = X_train.shape[1] * X_train.shape[2]\n",
    "X_train = X_train.reshape(X_train.shape[0], num_pixels).astype('float32')\n",
    "X_test = X_test.reshape(X_test.shape[0], num_pixels).astype('float32')\n",
    "print X_train.shape\n",
    "print y_train.shape\n",
    "print X_test.shape\n",
    "print y_test.shape"
   ]
  },
  {
   "cell_type": "code",
   "execution_count": 11,
   "metadata": {
    "collapsed": true
   },
   "outputs": [],
   "source": [
    "# perform the scaling of input values, normalize inputs from 0-255 to 0-1\n",
    "X_train = X_train / 255\n",
    "X_test = X_test / 255"
   ]
  },
  {
   "cell_type": "code",
   "execution_count": 15,
   "metadata": {
    "collapsed": false
   },
   "outputs": [],
   "source": [
    "# use one hot encoding of the class values to transform the vector of class integers into a binary matrix\n",
    "y_train = np_utils.to_categorical(y_train)\n",
    "y_test = np_utils.to_categorical(y_test)\n",
    "num_classes = y_test.shape[1]"
   ]
  },
  {
   "cell_type": "code",
   "execution_count": 17,
   "metadata": {
    "collapsed": false
   },
   "outputs": [],
   "source": [
    "# print y_test.shape\n",
    "# create simple neural network model as baseline model\n",
    "def baseline_model():\n",
    "    # create model\n",
    "    model = Sequential()\n",
    "    model.add(Dense(num_pixels, input_dim=num_pixels, init='normal', activation='relu'))\n",
    "    model.add(Dense(num_classes, init='normal', activation='softmax'))\n",
    "    # Compile model\n",
    "    model.compile(loss='categorical_crossentropy', optimizer='adam', metrics=['accuracy'])\n",
    "    return model"
   ]
  },
  {
   "cell_type": "markdown",
   "metadata": {},
   "source": [
    "### Structure\n",
    "* one hidden layer\n",
    " * the same No. of neurons as there are inputs(784)\n",
    " * A rectifier activation function used for the neurons\n",
    "* output layer\n",
    " * softmax activation function used to turn the outputs into probability-like values and allow one class of the 10 to be selected as the model's output prediction\n",
    " * Logarithmic loss used as loss function(called categorical_crossentropy in Keras)\n",
    " * ADAM gradient descent algorithm used to learn the weights"
   ]
  },
  {
   "cell_type": "markdown",
   "metadata": {},
   "source": [
    "### fit & evaluate the model\n",
    "* fit over 10 epochs with updates every 200 images\n",
    "* test data used as the validation dataset to see the skill of the model as it trains\n",
    "* verbose of 2 to reduce the output to one line for each training epoch\n",
    "* test dataset is used to evaluate the model and a classification error rate is printed"
   ]
  },
  {
   "cell_type": "code",
   "execution_count": 18,
   "metadata": {
    "collapsed": false
   },
   "outputs": [
    {
     "name": "stdout",
     "output_type": "stream",
     "text": [
      "Train on 60000 samples, validate on 10000 samples\n",
      "Epoch 1/10\n",
      "26s - loss: 0.2838 - acc: 0.9186 - val_loss: 0.1416 - val_acc: 0.9583\n",
      "Epoch 2/10\n",
      "16s - loss: 0.1136 - acc: 0.9667 - val_loss: 0.0940 - val_acc: 0.9718\n",
      "Epoch 3/10\n",
      "17s - loss: 0.0736 - acc: 0.9789 - val_loss: 0.0798 - val_acc: 0.9763\n",
      "Epoch 4/10\n",
      "17s - loss: 0.0523 - acc: 0.9851 - val_loss: 0.0743 - val_acc: 0.9775\n",
      "Epoch 5/10\n",
      "19s - loss: 0.0387 - acc: 0.9892 - val_loss: 0.0694 - val_acc: 0.9786\n",
      "Epoch 6/10\n",
      "25s - loss: 0.0278 - acc: 0.9924 - val_loss: 0.0662 - val_acc: 0.9796\n",
      "Epoch 7/10\n",
      "21s - loss: 0.0218 - acc: 0.9943 - val_loss: 0.0602 - val_acc: 0.9817\n",
      "Epoch 8/10\n",
      "19s - loss: 0.0143 - acc: 0.9969 - val_loss: 0.0608 - val_acc: 0.9812\n",
      "Epoch 9/10\n",
      "16s - loss: 0.0118 - acc: 0.9973 - val_loss: 0.0563 - val_acc: 0.9819\n",
      "Epoch 10/10\n",
      "17s - loss: 0.0088 - acc: 0.9983 - val_loss: 0.0584 - val_acc: 0.9822\n",
      "Baseline Error: 1.78%\n"
     ]
    }
   ],
   "source": [
    "# build the model\n",
    "model = baseline_model()\n",
    "# fit the model\n",
    "model.fit(X_train, y_train, validation_data=(X_test, y_test), nb_epoch=10, batch_size=200, verbose=2)\n",
    "# Final evaluation of the model\n",
    "scores = model.evaluate(X_test, y_test, verbose=0)\n",
    "print 'Baseline Error: %.2f%%' %(100-scores[1]*100)"
   ]
  }
 ],
 "metadata": {
  "kernelspec": {
   "display_name": "Python 2",
   "language": "python",
   "name": "python2"
  },
  "language_info": {
   "codemirror_mode": {
    "name": "ipython",
    "version": 2
   },
   "file_extension": ".py",
   "mimetype": "text/x-python",
   "name": "python",
   "nbconvert_exporter": "python",
   "pygments_lexer": "ipython2",
   "version": "2.7.13"
  }
 },
 "nbformat": 4,
 "nbformat_minor": 2
}
